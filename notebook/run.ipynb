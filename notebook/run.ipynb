{
 "cells": [
  {
   "cell_type": "code",
   "execution_count": 1,
   "id": "7950d628",
   "metadata": {},
   "outputs": [],
   "source": [
    "import os\n",
    "import sys"
   ]
  },
  {
   "cell_type": "code",
   "execution_count": 2,
   "id": "d70d0a75",
   "metadata": {},
   "outputs": [],
   "source": [
    "current_dir = os.path.basename(os.getcwd())\n",
    "if current_dir == 'notebook':\n",
    "    sys.path.append('../')"
   ]
  },
  {
   "cell_type": "code",
   "execution_count": 3,
   "id": "47d052d2",
   "metadata": {},
   "outputs": [],
   "source": [
    "from src.context import Context\n",
    "from src.strategies import (\n",
    "    XRChartStrategy,\n",
    "    XRsChartStrategy,\n",
    "    MedianChartStrategy,\n",
    "    npChartStrategy,\n",
    "    pChartStrategy,\n",
    "    cChartStrategy,\n",
    "    uChartStrategy,\n",
    ")"
   ]
  },
  {
   "cell_type": "code",
   "execution_count": 4,
   "id": "f900b511",
   "metadata": {},
   "outputs": [],
   "source": [
    "context = Context()"
   ]
  },
  {
   "cell_type": "code",
   "execution_count": null,
   "id": "f21977e8",
   "metadata": {},
   "outputs": [],
   "source": [
    "context.set_strategy(XRChartStrategy())\n",
    "context.plot_control_chart(\n",
    "    data_path=\"../csv/ex2-1.csv\",\n",
    "    coef_path=\"../csv/coef.csv\",\n",
    ")"
   ]
  },
  {
   "cell_type": "code",
   "execution_count": null,
   "id": "ad788453",
   "metadata": {},
   "outputs": [],
   "source": [
    "context.set_strategy(XRsChartStrategy())\n",
    "context.plot_control_chart(\n",
    "    data_path=\"../csv/ex2-2.csv\",\n",
    "    coef_path=\"../csv/coef.csv\",\n",
    ")"
   ]
  },
  {
   "cell_type": "code",
   "execution_count": null,
   "id": "2d299ed8",
   "metadata": {},
   "outputs": [],
   "source": [
    "context.set_strategy(MedianChartStrategy())\n",
    "context.plot_control_chart(\n",
    "    data_path=\"../csv/ex2-1.csv\",\n",
    "    coef_path=\"../csv/coef.csv\",\n",
    ")"
   ]
  },
  {
   "cell_type": "code",
   "execution_count": null,
   "id": "6cfc771a",
   "metadata": {},
   "outputs": [],
   "source": [
    "context.set_strategy(npChartStrategy())\n",
    "context.plot_control_chart(\n",
    "    data_path=\"../csv/ex2-3.csv\",\n",
    "    sample_size = 2000\n",
    ")"
   ]
  },
  {
   "cell_type": "code",
   "execution_count": null,
   "id": "82681fad",
   "metadata": {},
   "outputs": [],
   "source": [
    "context.set_strategy(pChartStrategy())\n",
    "context.plot_control_chart(\n",
    "    data_path=\"../csv/ex2-4.csv\",\n",
    ")"
   ]
  },
  {
   "cell_type": "code",
   "execution_count": null,
   "id": "bc61a7f7",
   "metadata": {},
   "outputs": [],
   "source": [
    "context.set_strategy(cChartStrategy())\n",
    "context.plot_control_chart(\n",
    "    data_path=\"../csv/ex2-5.csv\",\n",
    ")"
   ]
  },
  {
   "cell_type": "code",
   "execution_count": null,
   "id": "fde4118c",
   "metadata": {},
   "outputs": [],
   "source": [
    "context.set_strategy(uChartStrategy())\n",
    "context.plot_control_chart(\n",
    "    data_path=\"../csv/ex2-6.csv\",\n",
    ")"
   ]
  }
 ],
 "metadata": {
  "kernelspec": {
   "display_name": ".venv",
   "language": "python",
   "name": "python3"
  },
  "language_info": {
   "codemirror_mode": {
    "name": "ipython",
    "version": 3
   },
   "file_extension": ".py",
   "mimetype": "text/x-python",
   "name": "python",
   "nbconvert_exporter": "python",
   "pygments_lexer": "ipython3",
   "version": "3.12.10"
  }
 },
 "nbformat": 4,
 "nbformat_minor": 5
}
